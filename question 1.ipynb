{
 "cells": [
  {
   "cell_type": "code",
   "execution_count": 1,
   "id": "59bb8d4a",
   "metadata": {},
   "outputs": [
    {
     "name": "stdout",
     "output_type": "stream",
     "text": [
      "                                 Name Rating    Year\n",
      "0                     Ship of Theseus      8  (2012)\n",
      "1                              Iruvar    8.4  (1997)\n",
      "2                     Kaagaz Ke Phool    7.8  (1959)\n",
      "3   Lagaan: Once Upon a Time in India    8.1  (2001)\n",
      "4                     Pather Panchali    8.2  (1955)\n",
      "..                                ...    ...     ...\n",
      "95                        Apur Sansar    8.4  (1959)\n",
      "96                        Kanchivaram    8.2  (2008)\n",
      "97                    Monsoon Wedding    7.3  (2001)\n",
      "98                              Black    8.1  (2005)\n",
      "99                            Deewaar      8  (1975)\n",
      "\n",
      "[100 rows x 3 columns]\n"
     ]
    }
   ],
   "source": [
    "import requests\n",
    "from bs4 import BeautifulSoup\n",
    "import pandas as pd\n",
    "\n",
    "# URL of the IMDb's top-rated 100 Indian movies list\n",
    "url = \"https://www.imdb.com/list/ls056092300/\"\n",
    "\n",
    "# Sending a GET request to the URL\n",
    "response = requests.get(url)\n",
    "\n",
    "# Parsing the HTML content using BeautifulSoup\n",
    "soup = BeautifulSoup(response.content, 'html.parser')\n",
    "\n",
    "# Finding all the movie items in the list\n",
    "movies = soup.find_all(\"div\", {\"class\": \"lister-item-content\"})\n",
    "\n",
    "# Lists to store movie data\n",
    "names = []\n",
    "ratings = []\n",
    "years = []\n",
    "\n",
    "# Extracting data for each movie\n",
    "for movie in movies:\n",
    "    # Extracting name\n",
    "    name = movie.find(\"a\").text.strip()\n",
    "    names.append(name)\n",
    "    \n",
    "    # Extracting rating\n",
    "    rating = movie.find(\"span\", {\"class\": \"ipl-rating-star__rating\"}).text.strip()\n",
    "    ratings.append(rating)\n",
    "    \n",
    "    # Extracting year\n",
    "    year = movie.find(\"span\", {\"class\": \"lister-item-year\"}).text.strip()\n",
    "    years.append(year)\n",
    "\n",
    "# Creating a dataframe\n",
    "data = {\n",
    "    \"Name\": names,\n",
    "    \"Rating\": ratings,\n",
    "    \"Year\": years\n",
    "}\n",
    "\n",
    "df = pd.DataFrame(data)\n",
    "\n",
    "# Displaying the dataframe\n",
    "print(df)\n"
   ]
  },
  {
   "cell_type": "code",
   "execution_count": null,
   "id": "1f0e6481",
   "metadata": {},
   "outputs": [],
   "source": []
  }
 ],
 "metadata": {
  "kernelspec": {
   "display_name": "Python 3 (ipykernel)",
   "language": "python",
   "name": "python3"
  },
  "language_info": {
   "codemirror_mode": {
    "name": "ipython",
    "version": 3
   },
   "file_extension": ".py",
   "mimetype": "text/x-python",
   "name": "python",
   "nbconvert_exporter": "python",
   "pygments_lexer": "ipython3",
   "version": "3.11.5"
  }
 },
 "nbformat": 4,
 "nbformat_minor": 5
}
