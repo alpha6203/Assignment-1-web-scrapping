{
 "cells": [
  {
   "cell_type": "code",
   "execution_count": 5,
   "id": "5171a52f",
   "metadata": {},
   "outputs": [
    {
     "name": "stdout",
     "output_type": "stream",
     "text": [
      "Scraping first 10 product details:\n"
     ]
    }
   ],
   "source": [
    "import requests\n",
    "from bs4 import BeautifulSoup\n",
    "\n",
    "def scrape_product_details(url):\n",
    "    response = requests.get(url)\n",
    "    soup = BeautifulSoup(response.content, 'html.parser')\n",
    "\n",
    "    product_cards = soup.find_all(\"div\", class_=\"productCardWrapper\")\n",
    "\n",
    "    for card in product_cards[:10]:  # Limiting to first 10 products\n",
    "        # Extracting product name\n",
    "        name = card.find(\"h3\", class_=\"name\").text.strip()\n",
    "\n",
    "        # Extracting product price\n",
    "        price = card.find(\"span\", class_=\"price\").text.strip()\n",
    "\n",
    "        # Extracting product image URL\n",
    "        image_url = card.find(\"img\")[\"src\"]\n",
    "\n",
    "        print(\"Product Name:\", name)\n",
    "        print(\"Price:\", price)\n",
    "        print(\"Image URL:\", image_url)\n",
    "        print()\n",
    "\n",
    "# URL of the bestseller page\n",
    "url = \"https://www.bewakoof.com/bestseller?sort=popular\"\n",
    "\n",
    "# Scrape first 10 product details\n",
    "print(\"Scraping first 10 product details:\")\n",
    "scrape_product_details(url)\n"
   ]
  },
  {
   "cell_type": "code",
   "execution_count": null,
   "id": "7732b9ac",
   "metadata": {},
   "outputs": [],
   "source": []
  }
 ],
 "metadata": {
  "kernelspec": {
   "display_name": "Python 3 (ipykernel)",
   "language": "python",
   "name": "python3"
  },
  "language_info": {
   "codemirror_mode": {
    "name": "ipython",
    "version": 3
   },
   "file_extension": ".py",
   "mimetype": "text/x-python",
   "name": "python",
   "nbconvert_exporter": "python",
   "pygments_lexer": "ipython3",
   "version": "3.11.5"
  }
 },
 "nbformat": 4,
 "nbformat_minor": 5
}
