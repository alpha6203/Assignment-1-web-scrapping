{
 "cells": [
  {
   "cell_type": "code",
   "execution_count": 4,
   "id": "37a623d1",
   "metadata": {},
   "outputs": [
    {
     "name": "stdout",
     "output_type": "stream",
     "text": [
      "Scraping house details for Indira-nagar:\n",
      "\n",
      "Scraping house details for Jayanagar:\n",
      "\n",
      "Scraping house details for Rajaji-nagar:\n",
      "\n"
     ]
    }
   ],
   "source": [
    "import requests\n",
    "from bs4 import BeautifulSoup\n",
    "\n",
    "def scrape_house_details(locality):\n",
    "    url = f\"https://www.nobroker.in/property/sale/{locality}/bangalore\"\n",
    "    response = requests.get(url)\n",
    "    soup = BeautifulSoup(response.content, 'html.parser')\n",
    "\n",
    "    house_listings = soup.find_all(\"div\", class_=\"card\")\n",
    "    for listing in house_listings:\n",
    "        # Extracting house title\n",
    "        title = listing.find(\"h2\", class_=\"heading-6 font-semi-bold nb__1AShY\").text.strip()\n",
    "\n",
    "        # Extracting location\n",
    "        location = listing.find(\"div\", class_=\"nb__2CMjv\").text.strip()\n",
    "\n",
    "        # Extracting area\n",
    "        area = listing.find(\"div\", class_=\"nb__3oNyC\").text.strip()\n",
    "\n",
    "        # Extracting EMI\n",
    "        emi = listing.find(\"div\", class_=\"font-semi-bold heading-6\", text=\"₹\").text.strip()\n",
    "\n",
    "        # Extracting price\n",
    "        price = listing.find(\"div\", class_=\"font-semi-bold heading-6\").text.strip()\n",
    "\n",
    "        print(\"Title:\", title)\n",
    "        print(\"Location:\", location)\n",
    "        print(\"Area:\", area)\n",
    "        print(\"EMI:\", emi)\n",
    "        print(\"Price:\", price)\n",
    "        print()\n",
    "\n",
    "# List of localities\n",
    "localities = [\"indira-nagar\", \"jayanagar\", \"rajaji-nagar\"]\n",
    "\n",
    "# Scrape house details for each locality\n",
    "for locality in localities:\n",
    "    print(f\"Scraping house details for {locality.capitalize()}:\")\n",
    "    scrape_house_details(locality)\n",
    "    print()\n"
   ]
  },
  {
   "cell_type": "code",
   "execution_count": null,
   "id": "01d27f75",
   "metadata": {},
   "outputs": [],
   "source": []
  }
 ],
 "metadata": {
  "kernelspec": {
   "display_name": "Python 3 (ipykernel)",
   "language": "python",
   "name": "python3"
  },
  "language_info": {
   "codemirror_mode": {
    "name": "ipython",
    "version": 3
   },
   "file_extension": ".py",
   "mimetype": "text/x-python",
   "name": "python",
   "nbconvert_exporter": "python",
   "pygments_lexer": "ipython3",
   "version": "3.11.5"
  }
 },
 "nbformat": 4,
 "nbformat_minor": 5
}
