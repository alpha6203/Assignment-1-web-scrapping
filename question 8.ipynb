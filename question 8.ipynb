{
 "cells": [
  {
   "cell_type": "code",
   "execution_count": 8,
   "id": "35f517ca",
   "metadata": {},
   "outputs": [
    {
     "name": "stdout",
     "output_type": "stream",
     "text": [
      "Scraping most downloaded articles:\n"
     ]
    }
   ],
   "source": [
    "import requests\n",
    "from bs4 import BeautifulSoup\n",
    "\n",
    "def scrape_downloaded_articles(url):\n",
    "    response = requests.get(url)\n",
    "    soup = BeautifulSoup(response.content, 'html.parser')\n",
    "\n",
    "    articles = soup.find_all(\"div\", class_=\"article-entry\")\n",
    "\n",
    "    for article in articles:\n",
    "        # Extract paper title\n",
    "        title = article.find(\"h5\", class_=\"card-title\").text.strip()\n",
    "\n",
    "        # Extract date\n",
    "        date = article.find(\"span\", class_=\"meta-date\").text.strip()\n",
    "\n",
    "        # Extract author(s)\n",
    "        author = article.find(\"span\", class_=\"author\").text.strip()\n",
    "\n",
    "        print(\"Paper Title:\", title)\n",
    "        print(\"Date:\", date)\n",
    "        print(\"Author(s):\", author)\n",
    "        print()\n",
    "\n",
    "# URL of the most downloaded articles page\n",
    "url = \"https://www.keaipublishing.com/en/journals/artificial-intelligence-in-agriculture/most-downloaded-articles/\"\n",
    "\n",
    "# Scrape paper titles, dates, and authors\n",
    "print(\"Scraping most downloaded articles:\")\n",
    "scrape_downloaded_articles(url)\n"
   ]
  },
  {
   "cell_type": "code",
   "execution_count": null,
   "id": "5ebea7ef",
   "metadata": {},
   "outputs": [],
   "source": []
  }
 ],
 "metadata": {
  "kernelspec": {
   "display_name": "Python 3 (ipykernel)",
   "language": "python",
   "name": "python3"
  },
  "language_info": {
   "codemirror_mode": {
    "name": "ipython",
    "version": 3
   },
   "file_extension": ".py",
   "mimetype": "text/x-python",
   "name": "python",
   "nbconvert_exporter": "python",
   "pygments_lexer": "ipython3",
   "version": "3.11.5"
  }
 },
 "nbformat": 4,
 "nbformat_minor": 5
}
