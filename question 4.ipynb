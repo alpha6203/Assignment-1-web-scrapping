{
 "cells": [
  {
   "cell_type": "code",
   "execution_count": 3,
   "id": "f3808d76",
   "metadata": {},
   "outputs": [],
   "source": [
    "import requests\n",
    "from bs4 import BeautifulSoup\n",
    "\n",
    "# URL of the Patreon page\n",
    "url = \"https://www.patreon.com/coreyms\"\n",
    "\n",
    "# Sending a GET request to the URL\n",
    "response = requests.get(url)\n",
    "\n",
    "# Parsing the HTML content using BeautifulSoup\n",
    "soup = BeautifulSoup(response.content, 'html.parser')\n",
    "\n",
    "# Finding all the post items\n",
    "posts = soup.find_all(\"div\", class_=\"post\")\n",
    "\n",
    "# Iterate through each post\n",
    "for post in posts:\n",
    "    # Extracting heading\n",
    "    heading = post.find(\"h2\", class_=\"post__title\").text.strip()\n",
    "    \n",
    "    # Extracting date\n",
    "    date = post.find(\"time\", class_=\"post__date\").text.strip()\n",
    "    \n",
    "    # Extracting content\n",
    "    content = post.find(\"div\", class_=\"post__content\").text.strip()\n",
    "    \n",
    "    # Extracting the link to the YouTube video (if available)\n",
    "    youtube_link = post.find(\"a\", class_=\"post__cta--youtube\")\n",
    "    if youtube_link:\n",
    "        youtube_url = youtube_link.get(\"href\")\n",
    "        # Scrape the likes for the video from the YouTube page\n",
    "        youtube_response = requests.get(youtube_url)\n",
    "        youtube_soup = BeautifulSoup(youtube_response.content, 'html.parser')\n",
    "        likes = youtube_soup.find(\"button\", class_=\"style-scope ytd-toggle-button-renderer style-text\").text.strip()\n",
    "    else:\n",
    "        likes = \"Not available\"\n",
    "\n",
    "    # Print the details\n",
    "    print(\"Heading:\", heading)\n",
    "    print(\"Date:\", date)\n",
    "    print(\"Content:\", content)\n",
    "    print(\"Likes:\", likes)\n",
    "    print(\"\\n\")\n"
   ]
  },
  {
   "cell_type": "code",
   "execution_count": null,
   "id": "a8d9833f",
   "metadata": {},
   "outputs": [],
   "source": []
  }
 ],
 "metadata": {
  "kernelspec": {
   "display_name": "Python 3 (ipykernel)",
   "language": "python",
   "name": "python3"
  },
  "language_info": {
   "codemirror_mode": {
    "name": "ipython",
    "version": 3
   },
   "file_extension": ".py",
   "mimetype": "text/x-python",
   "name": "python",
   "nbconvert_exporter": "python",
   "pygments_lexer": "ipython3",
   "version": "3.11.5"
  }
 },
 "nbformat": 4,
 "nbformat_minor": 5
}
